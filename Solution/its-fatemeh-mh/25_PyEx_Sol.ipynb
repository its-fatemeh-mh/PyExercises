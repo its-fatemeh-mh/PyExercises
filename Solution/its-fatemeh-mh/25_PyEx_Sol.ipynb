{
 "cells": [
  {
   "cell_type": "markdown",
   "id": "e4a0f25f-69bd-4e1b-9b86-b173ba96f5b6",
   "metadata": {},
   "source": [
    "# 25 - Advanced Exercises\n",
    "\n",
    "*   Decorators"
   ]
  },
  {
   "cell_type": "markdown",
   "id": "fe69b8f0-8690-4897-8c0d-a30b11e89fb7",
   "metadata": {
    "tags": []
   },
   "source": [
    "### Function review exercises \n",
    "## 🎎🎎🎎\n",
    "1.assign **```myfuction```** to a new variable, then access the function from that variable and print it using inputs 2 and 3. "
   ]
  },
  {
   "cell_type": "code",
   "execution_count": null,
   "id": "bf36f2d9-f852-412a-868a-e1ca7dc88d6f",
   "metadata": {},
   "outputs": [],
   "source": [
    "# Write your own code in this cell\n",
    "def myfunction(a, b):\n",
    "    return a + b\n",
    "  = myfunction\n",
    "print()"
   ]
  },
  {
   "cell_type": "markdown",
   "id": "7af539a3-e551-48a9-885f-6f5fcebab689",
   "metadata": {
    "tags": []
   },
   "source": [
    "## 🎎🎎🎎\n",
    "2.Define a function named **```inner_function```** that is nested within another function named **```outer_function```**.\n",
    "\n",
    "try to execute the inner_function outside of the outer_function . What error do you encounter and why?"
   ]
  },
  {
   "cell_type": "code",
   "execution_count": null,
   "id": "ce2ea73a-cc3b-422f-a407-f1219de83619",
   "metadata": {},
   "outputs": [],
   "source": [
    "# Write your own code in this cell\n"
   ]
  },
  {
   "cell_type": "markdown",
   "id": "5488337f-24cf-44b5-9905-387a75216d0f",
   "metadata": {
    "tags": []
   },
   "source": [
    "## 🎎🎎🎎\n",
    "3.Add a line of code to the functions below to make **```factorial_10()```** callable. "
   ]
  },
  {
   "cell_type": "code",
   "execution_count": null,
   "id": "7fb6600b-9b7c-46dc-98ad-260ebfa792fd",
   "metadata": {},
   "outputs": [],
   "source": [
    "# Write your own code in this cell\n",
    "import math\n",
    "def outer_function(n):\n",
    "    description = f'Calculating the factorial of {n}.'\n",
    "    def inner_function():\n",
    "        print(description)\n",
    "        print(f\"Result = {math.factorial(n)}\")\n",
    "\n",
    "\n",
    "factorial_10 = outer_function(10)\n",
    "factorial_10()"
   ]
  },
  {
   "cell_type": "markdown",
   "id": "b8804fef-aed4-4db4-961c-3cd536cbea0c",
   "metadata": {
    "tags": []
   },
   "source": [
    "## 🎎🎎🎎\n",
    "4.Complete the following functions to allow them to call **```myreminder```** function with **```do```** function as an argument. "
   ]
  },
  {
   "cell_type": "code",
   "execution_count": null,
   "id": "a9fb236c-8142-4049-837b-309854b24f06",
   "metadata": {},
   "outputs": [],
   "source": [
    "# Write your own code in this cell\n",
    "def myreminder(    ):\n",
    "    \n",
    "    print('Remember to bring your glasses!')\n",
    "\n",
    "def do():\n",
    "    print('I\\'m going to read a book.')\n",
    "\n",
    "myreminder(do)"
   ]
  },
  {
   "cell_type": "markdown",
   "id": "3302b25a-54b9-40c8-be68-0ab1ae8b42f6",
   "metadata": {},
   "source": [
    "### Decorator exercises \n",
    "## 🎎🎎\n",
    "5.Create a decorator called **```retry```** that repeats the functions a given number of times and at a particular interval(In seconds).\n",
    "Take a keyword argument for the number of iterations **\"repeat\"** and a keyword argument for the distance between iterations **\"interval\"**. \n",
    "\n",
    "(Using the **```time.sleep(n)```** method, you can delay n seconds until the next line is executed)"
   ]
  },
  {
   "cell_type": "code",
   "execution_count": null,
   "id": "b9d4ddf4-5ed5-4dbc-8ac0-2a212d8ff743",
   "metadata": {},
   "outputs": [],
   "source": [
    "# Write your own code in this cell\n",
    "import math\n",
    "import time\n",
    "\n",
    "def retry(func):\n",
    "\n",
    "\n",
    "@retry\n",
    "def factorial_calculation(n):\n",
    "    r = math.factorial(n)\n",
    "    print(r)\n",
    "\n",
    "factorial_calculation(10, repeat=3, interval=1)"
   ]
  },
  {
   "cell_type": "markdown",
   "id": "5fce762a-16c3-4e48-bfd3-bc327c9171a1",
   "metadata": {
    "tags": []
   },
   "source": [
    "## 🎎\n",
    "6.Write a decorator named **```log```** that adds the function name , function execution time and date  and execution result to a file in the **\"./Files/decorators/log.txt\"** path. \n",
    "\n",
    "**```the sample contents of a log file:```**\n",
    "```\n",
    "The factorial_calculation function was executed at 11/15/2021, 19:37:30 with input 6 and output 720.\n",
    "The factorial_calculation function was executed at 11/15/2021, 19:37:34 with input 7 and output 5040.\n",
    "The factorial_calculation function was executed at 11/15/2021, 19:37:37 with input 8 and output 40320.\n",
    "The factorial_calculation function was executed at 11/15/2021, 19:37:41 with input 13 and output 6227020800.\n",
    "The factorial_calculation function was executed at 11/15/2021, 19:37:46 with input 24 and output 620448401733239439360000\n",
    "```"
   ]
  },
  {
   "cell_type": "code",
   "execution_count": null,
   "id": "a734f947-9ef4-4d58-9726-8174fcfae2a6",
   "metadata": {},
   "outputs": [],
   "source": [
    "# Write your own code in this cell\n",
    "import math\n",
    "import time\n",
    "from pathlib import Path\n",
    "\n",
    "def log(func):\n",
    "    def wraper(*args, **kwargs):\n",
    "\n",
    "        mytuple = time.localtime() \n",
    "        time_string = time.strftime(\"%m/%d/%Y, %H:%M:%S\", mytuple)\n",
    "\n",
    "\n",
    "@log\n",
    "def factorial_calculation(n):\n",
    "    r = math.factorial(n)\n",
    "    print(r)\n",
    "    return r"
   ]
  },
  {
   "cell_type": "markdown",
   "id": "e2c0b312-6258-4a5d-b185-330c9afc9cdc",
   "metadata": {},
   "source": [
    "## 🎎🎎🎎\n",
    "7.Create a decorator that prints the execution time of a function in seconds. Use **time.time()** method  to calculate how long it takes to execute a function. Record the time before and after the execution of the function, then subtract them to calculate execution time.\n",
    "\n",
    "Can you add the amount of ram used to this decorator? "
   ]
  },
  {
   "cell_type": "code",
   "execution_count": null,
   "id": "17f260fa-595e-4625-9415-4791a7d0f95c",
   "metadata": {},
   "outputs": [],
   "source": [
    "# Write your own code in this cell\n",
    "import time\n",
    "\n",
    "def timeit(func):\n",
    "    \n",
    "    \n",
    "@timeit\n",
    "def factorial_calculation(n):\n",
    "    r = math.factorial(n)\n",
    "    print(f\"{n}! = {r}\")\n",
    "\n",
    "factorial_calculation(1)\n",
    "factorial_calculation(10)\n",
    "factorial_calculation(20)"
   ]
  },
  {
   "cell_type": "markdown",
   "id": "44afeb55-2ad5-48cb-8f25-5d36595c2d34",
   "metadata": {},
   "source": [
    "## 🎎🎎\n",
    "8.Function **```get_coin_price```** takes as input the symbol of each cryptocurrency and displays the current price.\n",
    "Create a decorator that allows you to give function **```get_coin_price```** multiple inputs instead of just one. "
   ]
  },
  {
   "cell_type": "code",
   "execution_count": null,
   "id": "eeeb922b-17b1-49a0-9f68-e94e175dafac",
   "metadata": {},
   "outputs": [],
   "source": [
    "# Write your own code in this cell\n",
    "import urllib\n",
    "import json\n",
    "\n",
    "def multiple_inputs(func):\n",
    "    \n",
    "    \n",
    "    \n",
    "    \n",
    "\n",
    "@multiple_inputs\n",
    "def get_coin_price(coin):\n",
    "    url = f\"https://data.messari.io/api/v1/assets/{coin}/metrics\"\n",
    "    response=urllib.request.urlopen(url)\n",
    "    if response.getcode() == 200:\n",
    "        myjson = response.read()\n",
    "        mydict = json.loads(myjson)\n",
    "        price = mydict[\"data\"][\"market_data\"][\"price_usd\"]\n",
    "        coin_name = mydict[\"data\"]['name']\n",
    "        print(f\"{coin_name} price = {price:0.5f}\")\n",
    "    else:\n",
    "        print(\"An error has occurred!\")     \n",
    "\n",
    "\n",
    "        \n",
    "get_coin_price('btc')\n",
    "print(\"---------------------------\")\n",
    "get_coin_price('btc', 'ada', 'xrp', 'link')"
   ]
  }
 ],
 "metadata": {
  "kernelspec": {
   "display_name": "Python 3 (ipykernel)",
   "language": "python",
   "name": "python3"
  },
  "language_info": {
   "codemirror_mode": {
    "name": "ipython",
    "version": 3
   },
   "file_extension": ".py",
   "mimetype": "text/x-python",
   "name": "python",
   "nbconvert_exporter": "python",
   "pygments_lexer": "ipython3",
   "version": "3.9.7"
  }
 },
 "nbformat": 4,
 "nbformat_minor": 5
}
