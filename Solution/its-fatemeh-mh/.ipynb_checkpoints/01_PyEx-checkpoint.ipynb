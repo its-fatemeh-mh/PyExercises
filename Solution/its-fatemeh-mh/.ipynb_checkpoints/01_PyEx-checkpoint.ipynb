{
 "cells": [
  {
   "cell_type": "markdown",
   "metadata": {
    "id": "8Xbq_7w_nS2L"
   },
   "source": [
    "# 01 - Beginner Exercises\n",
    "\n",
    "\n",
    "*   print() function \n",
    "*   Variables \n",
    "*   Data Types  \n",
    "\n"
   ]
  },
  {
   "cell_type": "markdown",
   "metadata": {
    "id": "sz1jhyzqW2eJ"
   },
   "source": [
    "## 🍑🍑\n",
    "1.Write a code that outputs the phrase \"Hello, World!\" "
   ]
  },
  {
   "cell_type": "code",
   "execution_count": 2,
   "metadata": {
    "id": "F7iNc4S6Wmvl"
   },
   "outputs": [
    {
     "name": "stdout",
     "output_type": "stream",
     "text": [
      "Hello, World!\n"
     ]
    }
   ],
   "source": [
    "# Write your own code in this cell \n",
    "\n",
    "print (\"Hello, World!\")"
   ]
  },
  {
   "cell_type": "markdown",
   "metadata": {
    "id": "3kJ_tbqiX3-o"
   },
   "source": [
    "## 🍑🍑🍑\n",
    "\n",
    "2.Write a program that assigns the string \"Hello World\" to the variable ```mytext``` and then prints that variable.  \n"
   ]
  },
  {
   "cell_type": "code",
   "execution_count": 3,
   "metadata": {
    "id": "XvX4CtBxYqg1"
   },
   "outputs": [
    {
     "name": "stdout",
     "output_type": "stream",
     "text": [
      "Hello World\n"
     ]
    }
   ],
   "source": [
    "# Write your own code in this cell \n",
    "mytext = \"Hello World\"\n",
    "print (mytext)\n"
   ]
  },
  {
   "cell_type": "markdown",
   "metadata": {
    "id": "KoLufZe1ZZkb"
   },
   "source": [
    "## 🍑🍑🍑\n",
    "3.Using a single ```print()``` function, print the three values ```\"Ali\"```, ```\"Math\"``` and ```19.5```. "
   ]
  },
  {
   "cell_type": "code",
   "execution_count": 4,
   "metadata": {
    "id": "DCK32CbgZqNI"
   },
   "outputs": [
    {
     "name": "stdout",
     "output_type": "stream",
     "text": [
      "Ali Math 19.5\n"
     ]
    }
   ],
   "source": [
    "# Write your own code in this cell \n",
    "\n",
    "print (\"Ali\" , \"Math\" , 19.5)"
   ]
  },
  {
   "cell_type": "markdown",
   "metadata": {
    "id": "oF-so8sTcRJt"
   },
   "source": [
    "## 🍑🍑\n",
    "4.Set the value of a variable called ```bottle_of_juice``` to **6**.\n",
    "Then print the phrase : **\"I have x bottles of juice today!\"**\n",
    "\n",
    "*(**x** should be replaced with the number of bottles!)*"
   ]
  },
  {
   "cell_type": "code",
   "execution_count": 6,
   "metadata": {
    "id": "UClaBeZadydf"
   },
   "outputs": [
    {
     "name": "stdout",
     "output_type": "stream",
     "text": [
      "I have 6 bottles of juice today!\n"
     ]
    }
   ],
   "source": [
    "# Write your own code in this cell \n",
    "bottle_of_juice = x = 6\n",
    "print(\"I have\" , x , \"bottles of juice today!\" )"
   ]
  },
  {
   "cell_type": "markdown",
   "metadata": {
    "id": "uwFgJERGZtzZ"
   },
   "source": [
    "## 🍑🍑\n",
    "5.Considering that you decide to drink one of the fruit juices after defining this variable, you should subtract a number from the value of ```bottle_of_juice``` and then print ```bottle_of_juice``` again. "
   ]
  },
  {
   "cell_type": "code",
   "execution_count": 7,
   "metadata": {
    "id": "VH8hEyh4bvMc"
   },
   "outputs": [
    {
     "name": "stdout",
     "output_type": "stream",
     "text": [
      "5\n"
     ]
    }
   ],
   "source": [
    "# Write your own code in this cell \n",
    "bottle_of_juice -= 1\n",
    "print (bottle_of_juice)"
   ]
  },
  {
   "cell_type": "markdown",
   "metadata": {
    "id": "VfBp02D0b8Lz"
   },
   "source": [
    "## 🍑🍑\n",
    "6.Define a variable called ```f6``` and assign the value of **6!** (*factorial of 6*) as an integer to ```f6```   and then print the variable."
   ]
  },
  {
   "cell_type": "code",
   "execution_count": 8,
   "metadata": {
    "id": "Ouz2W8Ewe1kT"
   },
   "outputs": [
    {
     "name": "stdout",
     "output_type": "stream",
     "text": [
      "600\n"
     ]
    }
   ],
   "source": [
    "# Write your own code in this cell \n",
    "f6 = 600\n",
    "print(f6)"
   ]
  },
  {
   "cell_type": "markdown",
   "metadata": {
    "id": "M9F1S8DRhFy9"
   },
   "source": [
    "## 🍑🍑\n",
    "7.Define a variable called ```my_reasons_to_live``` and explain your reasons as a string, then print this variable. "
   ]
  },
  {
   "cell_type": "code",
   "execution_count": 9,
   "metadata": {
    "id": "amU3rL6fhhMx"
   },
   "outputs": [
    {
     "name": "stdout",
     "output_type": "stream",
     "text": [
      "my reason to live is experience myself \n"
     ]
    }
   ],
   "source": [
    "# Write your own code in this cell\n",
    "my_reasons_to_live = 'my reason to live is experience myself '\n",
    "print (my_reasons_to_live)\n"
   ]
  },
  {
   "cell_type": "markdown",
   "metadata": {
    "id": "pcm93o5jhk9_"
   },
   "source": [
    "## 🍑🍑\n",
    "8.Let's define a variable called ```milk_price```. At first you think that the price of milk for each bottle is 10,000 tomans, but very soon during the code you realize that the price of milk has increased by 25% this week, so in the new line of code you have to set the price of milk at 12,500 and finally print ```milk_price``` ."
   ]
  },
  {
   "cell_type": "code",
   "execution_count": 11,
   "metadata": {
    "id": "9hk8mHanjpLg"
   },
   "outputs": [
    {
     "name": "stdout",
     "output_type": "stream",
     "text": [
      "12500\n"
     ]
    }
   ],
   "source": [
    "# Write your own code in this cell\n",
    "milk_price = 10000\n",
    "milk_price = 12500\n",
    "print (milk_price)"
   ]
  },
  {
   "cell_type": "markdown",
   "metadata": {
    "id": "tDEsmeL9jtqv"
   },
   "source": [
    "## 🍑🍑\n",
    "9.Consider the number **6869** and determine whether it is a *prime* number or not(True or False). Define a variable called ```is_6869_prime``` and set its value to **True** or **False** and then print the variable."
   ]
  },
  {
   "cell_type": "code",
   "execution_count": 14,
   "metadata": {
    "id": "0XPSGWOalTMI"
   },
   "outputs": [
    {
     "name": "stdout",
     "output_type": "stream",
     "text": [
      "True\n"
     ]
    }
   ],
   "source": [
    "# Write your own code in this cell \n",
    "is_6869_prime = True\n",
    "print(is_6869_prime)\n"
   ]
  },
  {
   "cell_type": "code",
   "execution_count": 13,
   "metadata": {},
   "outputs": [
    {
     "name": "stdout",
     "output_type": "stream",
     "text": [
      "6869 is a prime number\n"
     ]
    }
   ],
   "source": [
    "\n",
    "num = 6869\n",
    "\n",
    "# define a flag variable\n",
    "flag = False\n",
    "\n",
    "# prime numbers are greater than 1\n",
    "if num > 1:\n",
    "    # check for factors\n",
    "    for i in range(2, num):\n",
    "        if (num % i) == 0:\n",
    "            # if factor is found, set flag to True\n",
    "            flag = True\n",
    "            # break out of loop\n",
    "            break\n",
    "\n",
    "# check if flag is True\n",
    "if flag:\n",
    "    print(num, \"is not a prime number\")\n",
    "else:\n",
    "    print(num, \"is a prime number\")"
   ]
  },
  {
   "cell_type": "markdown",
   "metadata": {
    "id": "Ce89J7gTmBmO"
   },
   "source": [
    "## 🍑\n",
    "10.Print the **type** of variables ```f6``` ,  ```my_reasons_to_live``` , ```milk_price``` , ```is_6869_prime``` using the **type()**function. \n",
    "\n",
    "\n",
    "\n"
   ]
  },
  {
   "cell_type": "code",
   "execution_count": 29,
   "metadata": {
    "colab": {
     "base_uri": "https://localhost:8080/"
    },
    "id": "7EL9KNgImub1",
    "outputId": "d06c0774-2612-4f88-aede-a8df2ee3ae3b"
   },
   "outputs": [
    {
     "name": "stdout",
     "output_type": "stream",
     "text": [
      "<class 'int'> <class 'int'> <class 'str'> <class 'bool'>\n"
     ]
    }
   ],
   "source": [
    "# Write your own code in this cell \n",
    "\n",
    "print( type(f6) , type( milk_price ) ,type(my_reasons_to_live) , type(is_6869_prime) )\n",
    "\n"
   ]
  }
 ],
 "metadata": {
  "colab": {
   "collapsed_sections": [],
   "name": "01-PyExc.ipynb",
   "provenance": []
  },
  "kernelspec": {
   "display_name": "Python 3",
   "language": "python",
   "name": "python3"
  },
  "language_info": {
   "codemirror_mode": {
    "name": "ipython",
    "version": 3
   },
   "file_extension": ".py",
   "mimetype": "text/x-python",
   "name": "python",
   "nbconvert_exporter": "python",
   "pygments_lexer": "ipython3",
   "version": "3.7.6"
  }
 },
 "nbformat": 4,
 "nbformat_minor": 4
}
